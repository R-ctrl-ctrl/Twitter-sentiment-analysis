{
 "cells": [
  {
   "cell_type": "code",
   "execution_count": 1,
   "id": "8ad01ded",
   "metadata": {},
   "outputs": [],
   "source": [
    "import pandas as pd"
   ]
  },
  {
   "cell_type": "code",
   "execution_count": 2,
   "id": "d35aac24",
   "metadata": {},
   "outputs": [],
   "source": [
    "df = pd.read_csv('sentiments.csv')"
   ]
  },
  {
   "cell_type": "code",
   "execution_count": 3,
   "id": "bdfb9f52",
   "metadata": {},
   "outputs": [
    {
     "data": {
      "text/html": [
       "<div>\n",
       "<style scoped>\n",
       "    .dataframe tbody tr th:only-of-type {\n",
       "        vertical-align: middle;\n",
       "    }\n",
       "\n",
       "    .dataframe tbody tr th {\n",
       "        vertical-align: top;\n",
       "    }\n",
       "\n",
       "    .dataframe thead th {\n",
       "        text-align: right;\n",
       "    }\n",
       "</style>\n",
       "<table border=\"1\" class=\"dataframe\">\n",
       "  <thead>\n",
       "    <tr style=\"text-align: right;\">\n",
       "      <th></th>\n",
       "      <th>UserName</th>\n",
       "      <th>ScreenName</th>\n",
       "      <th>Location</th>\n",
       "      <th>TweetAt</th>\n",
       "      <th>OriginalTweet</th>\n",
       "      <th>Sentiment</th>\n",
       "    </tr>\n",
       "  </thead>\n",
       "  <tbody>\n",
       "    <tr>\n",
       "      <th>0</th>\n",
       "      <td>3799</td>\n",
       "      <td>48751</td>\n",
       "      <td>London</td>\n",
       "      <td>16-03-2020</td>\n",
       "      <td>@MeNyrbie @Phil_Gahan @Chrisitv https://t.co/i...</td>\n",
       "      <td>Neutral</td>\n",
       "    </tr>\n",
       "    <tr>\n",
       "      <th>1</th>\n",
       "      <td>3800</td>\n",
       "      <td>48752</td>\n",
       "      <td>UK</td>\n",
       "      <td>16-03-2020</td>\n",
       "      <td>advice Talk to your neighbours family to excha...</td>\n",
       "      <td>Positive</td>\n",
       "    </tr>\n",
       "    <tr>\n",
       "      <th>2</th>\n",
       "      <td>3801</td>\n",
       "      <td>48753</td>\n",
       "      <td>Vagabonds</td>\n",
       "      <td>16-03-2020</td>\n",
       "      <td>Coronavirus Australia: Woolworths to give elde...</td>\n",
       "      <td>Positive</td>\n",
       "    </tr>\n",
       "    <tr>\n",
       "      <th>3</th>\n",
       "      <td>3802</td>\n",
       "      <td>48754</td>\n",
       "      <td>NaN</td>\n",
       "      <td>16-03-2020</td>\n",
       "      <td>My food stock is not the only one which is emp...</td>\n",
       "      <td>Positive</td>\n",
       "    </tr>\n",
       "    <tr>\n",
       "      <th>4</th>\n",
       "      <td>3803</td>\n",
       "      <td>48755</td>\n",
       "      <td>NaN</td>\n",
       "      <td>16-03-2020</td>\n",
       "      <td>Me, ready to go at supermarket during the #COV...</td>\n",
       "      <td>Extremely Negative</td>\n",
       "    </tr>\n",
       "  </tbody>\n",
       "</table>\n",
       "</div>"
      ],
      "text/plain": [
       "   UserName  ScreenName   Location     TweetAt  \\\n",
       "0      3799       48751     London  16-03-2020   \n",
       "1      3800       48752         UK  16-03-2020   \n",
       "2      3801       48753  Vagabonds  16-03-2020   \n",
       "3      3802       48754        NaN  16-03-2020   \n",
       "4      3803       48755        NaN  16-03-2020   \n",
       "\n",
       "                                       OriginalTweet           Sentiment  \n",
       "0  @MeNyrbie @Phil_Gahan @Chrisitv https://t.co/i...             Neutral  \n",
       "1  advice Talk to your neighbours family to excha...            Positive  \n",
       "2  Coronavirus Australia: Woolworths to give elde...            Positive  \n",
       "3  My food stock is not the only one which is emp...            Positive  \n",
       "4  Me, ready to go at supermarket during the #COV...  Extremely Negative  "
      ]
     },
     "execution_count": 3,
     "metadata": {},
     "output_type": "execute_result"
    }
   ],
   "source": [
    "df.head()"
   ]
  },
  {
   "cell_type": "code",
   "execution_count": 4,
   "id": "a9b813f0",
   "metadata": {},
   "outputs": [
    {
     "data": {
      "text/plain": [
       "(41157, 6)"
      ]
     },
     "execution_count": 4,
     "metadata": {},
     "output_type": "execute_result"
    }
   ],
   "source": [
    "df.shape"
   ]
  },
  {
   "cell_type": "markdown",
   "id": "91b696e7",
   "metadata": {},
   "source": [
    "## data cleaning"
   ]
  },
  {
   "cell_type": "code",
   "execution_count": 5,
   "id": "50bc2ffa",
   "metadata": {},
   "outputs": [],
   "source": [
    "sentences = [sent for sent in df.OriginalTweet]"
   ]
  },
  {
   "cell_type": "code",
   "execution_count": 6,
   "id": "49eb46b2",
   "metadata": {},
   "outputs": [
    {
     "data": {
      "text/plain": [
       "41157"
      ]
     },
     "execution_count": 6,
     "metadata": {},
     "output_type": "execute_result"
    }
   ],
   "source": [
    "len(sentences)"
   ]
  },
  {
   "cell_type": "code",
   "execution_count": 7,
   "id": "2f3dce44",
   "metadata": {},
   "outputs": [
    {
     "data": {
      "text/plain": [
       "'Coronavirus Australia: Woolworths to give elderly, disabled dedicated shopping hours amid COVID-19 outbreak https://t.co/bInCA9Vp8P'"
      ]
     },
     "execution_count": 7,
     "metadata": {},
     "output_type": "execute_result"
    }
   ],
   "source": [
    "sentences[2]"
   ]
  },
  {
   "cell_type": "code",
   "execution_count": 8,
   "id": "2b3e5501",
   "metadata": {},
   "outputs": [],
   "source": [
    "import string\n",
    "cleaned_sents = []\n",
    "for sent in sentences:\n",
    "    table = sent.maketrans('','',string.punctuation)\n",
    "    txt = sent.translate(table)\n",
    "    cleaned_sents.append(txt)\n"
   ]
  },
  {
   "cell_type": "code",
   "execution_count": 9,
   "id": "8a254bb7",
   "metadata": {},
   "outputs": [
    {
     "data": {
      "text/plain": [
       "'MeNyrbie PhilGahan Chrisitv httpstcoiFz9FAn2Pa and httpstcoxX6ghGFzCC and httpstcoI2NlzdxNo8'"
      ]
     },
     "execution_count": 9,
     "metadata": {},
     "output_type": "execute_result"
    }
   ],
   "source": [
    "cleaned_sents[0]"
   ]
  },
  {
   "cell_type": "code",
   "execution_count": 10,
   "id": "427c7c0f",
   "metadata": {},
   "outputs": [],
   "source": [
    "url_free_sents = []\n",
    "for i in range(len(cleaned_sents)):\n",
    "    txt = [sent for sent in cleaned_sents[i].split() if sent[:4] != 'http']\n",
    "    url_free_sents.append(txt)\n",
    "    "
   ]
  },
  {
   "cell_type": "code",
   "execution_count": 11,
   "id": "6cde78cb",
   "metadata": {},
   "outputs": [],
   "source": [
    "url_free_sents2 = []\n",
    "for i in range(len(url_free_sents)):\n",
    "    txt = ' '.join(url_free_sents[i])\n",
    "    url_free_sents2.append(txt)\n",
    "    "
   ]
  },
  {
   "cell_type": "code",
   "execution_count": 12,
   "id": "8516195f",
   "metadata": {},
   "outputs": [
    {
     "data": {
      "text/plain": [
       "'Coronavirus Australia Woolworths to give elderly disabled dedicated shopping hours amid COVID19 outbreak'"
      ]
     },
     "execution_count": 12,
     "metadata": {},
     "output_type": "execute_result"
    }
   ],
   "source": [
    "url_free_sents2[2]"
   ]
  },
  {
   "cell_type": "code",
   "execution_count": 13,
   "id": "09ca422e",
   "metadata": {},
   "outputs": [
    {
     "name": "stderr",
     "output_type": "stream",
     "text": [
      "[nltk_data] Error loading stopwords: <urlopen error [Errno 11001]\n",
      "[nltk_data]     getaddrinfo failed>\n"
     ]
    }
   ],
   "source": [
    "import nltk\n",
    "import re\n",
    "from nltk.stem.porter import PorterStemmer\n",
    "nltk.download('stopwords')\n",
    "from nltk.corpus import stopwords"
   ]
  },
  {
   "cell_type": "code",
   "execution_count": 14,
   "id": "a1b5515d",
   "metadata": {},
   "outputs": [],
   "source": [
    "# corpus = []\n",
    "# porter = PorterStemmer()\n",
    "# for i in range(len(url_free_sents2)):\n",
    "#     review = re.sub('[^a-zA-Z]',' ',url_free_sents2[i])\n",
    "#     review = review.lower()\n",
    "#     review = review.split()\n",
    "    \n",
    "#     reviews = [porter.stem(word) for word in review if word not in stopwords.words('english')]\n",
    "#     review = ' '.join(review)\n",
    "    \n",
    "#     corpus.append(review)\n",
    "import pickle\n",
    "with open('corpus.pkl','rb') as f:\n",
    "    corpus = pickle.load(f)"
   ]
  },
  {
   "cell_type": "code",
   "execution_count": 15,
   "id": "c7be9e2f",
   "metadata": {},
   "outputs": [
    {
     "data": {
      "text/plain": [
       "41157"
      ]
     },
     "execution_count": 15,
     "metadata": {},
     "output_type": "execute_result"
    }
   ],
   "source": [
    "len(corpus)"
   ]
  },
  {
   "cell_type": "code",
   "execution_count": 16,
   "id": "c80f69f5",
   "metadata": {},
   "outputs": [],
   "source": [
    "from tensorflow.keras.preprocessing.text import Tokenizer\n",
    "from tensorflow.keras.preprocessing.sequence import pad_sequences"
   ]
  },
  {
   "cell_type": "code",
   "execution_count": 17,
   "id": "e2990d07",
   "metadata": {},
   "outputs": [],
   "source": [
    "tokenizer = Tokenizer(oov_token = \"<OOV>\")"
   ]
  },
  {
   "cell_type": "code",
   "execution_count": 18,
   "id": "67062744",
   "metadata": {},
   "outputs": [],
   "source": [
    "tokenizer.fit_on_texts(corpus)\n",
    "with open('tokenizer.pkl','wb') as f:\n",
    "    pickle.dump(tokenizer,f)"
   ]
  },
  {
   "cell_type": "code",
   "execution_count": 19,
   "id": "330697e5",
   "metadata": {},
   "outputs": [],
   "source": [
    "sequences = tokenizer.texts_to_sequences(corpus)"
   ]
  },
  {
   "cell_type": "code",
   "execution_count": 20,
   "id": "434f9fcf",
   "metadata": {},
   "outputs": [
    {
     "data": {
      "text/plain": [
       "41157"
      ]
     },
     "execution_count": 20,
     "metadata": {},
     "output_type": "execute_result"
    }
   ],
   "source": [
    "len(sequences)"
   ]
  },
  {
   "cell_type": "code",
   "execution_count": 21,
   "id": "62c7f697",
   "metadata": {},
   "outputs": [
    {
     "data": {
      "text/plain": [
       "[22650, 22651, 12756, 4, 4]"
      ]
     },
     "execution_count": 21,
     "metadata": {},
     "output_type": "execute_result"
    }
   ],
   "source": [
    "sequences[0]"
   ]
  },
  {
   "cell_type": "code",
   "execution_count": 22,
   "id": "2a8ef94f",
   "metadata": {},
   "outputs": [],
   "source": [
    "padded = pad_sequences(sequences)"
   ]
  },
  {
   "cell_type": "code",
   "execution_count": 23,
   "id": "e3b3a906",
   "metadata": {},
   "outputs": [
    {
     "data": {
      "text/plain": [
       "array(['Neutral', 'Positive', 'Extremely Negative', 'Negative',\n",
       "       'Extremely Positive'], dtype=object)"
      ]
     },
     "execution_count": 23,
     "metadata": {},
     "output_type": "execute_result"
    }
   ],
   "source": [
    "df.Sentiment.unique()"
   ]
  },
  {
   "cell_type": "code",
   "execution_count": 24,
   "id": "f660cf74",
   "metadata": {},
   "outputs": [],
   "source": [
    "dict = {\n",
    "    'Extremely Negative' : 0,\n",
    "    'Negative' : 1,\n",
    "    'Neutral':2,\n",
    "    'Positive':3,\n",
    "    'Extremely Positive':4\n",
    "}"
   ]
  },
  {
   "cell_type": "code",
   "execution_count": 25,
   "id": "b8b9f714",
   "metadata": {},
   "outputs": [],
   "source": [
    "df['Sentiment'] = df.Sentiment.map(dict)"
   ]
  },
  {
   "cell_type": "code",
   "execution_count": 26,
   "id": "81d1e035",
   "metadata": {},
   "outputs": [],
   "source": [
    "labels = []\n",
    "for i in df.Sentiment:\n",
    "    labels.append(i)"
   ]
  },
  {
   "cell_type": "code",
   "execution_count": 27,
   "id": "cb4b85ba",
   "metadata": {},
   "outputs": [
    {
     "data": {
      "text/plain": [
       "41157"
      ]
     },
     "execution_count": 27,
     "metadata": {},
     "output_type": "execute_result"
    }
   ],
   "source": [
    "len(labels)"
   ]
  },
  {
   "cell_type": "code",
   "execution_count": 28,
   "id": "dfea85ec",
   "metadata": {},
   "outputs": [],
   "source": [
    "# training_size = int(len(corpus)*0.8)"
   ]
  },
  {
   "cell_type": "code",
   "execution_count": 29,
   "id": "6b00bd2f",
   "metadata": {},
   "outputs": [],
   "source": [
    "# training_sequences = padded[:training_size]\n",
    "# training_labels = labels[:training_size]\n",
    "\n",
    "# testing_sequences = padded[training_size:]\n",
    "# testing_labels = labels[training_size:]\n",
    "\n",
    "from sklearn.model_selection import train_test_split\n",
    "training_sequences,testing_sequences,training_labels,testing_labels = train_test_split(padded,labels,test_size=0.2,random_state=42)"
   ]
  },
  {
   "cell_type": "code",
   "execution_count": 30,
   "id": "d9a597db",
   "metadata": {},
   "outputs": [
    {
     "data": {
      "text/plain": [
       "32925"
      ]
     },
     "execution_count": 30,
     "metadata": {},
     "output_type": "execute_result"
    }
   ],
   "source": [
    "len(training_labels)"
   ]
  },
  {
   "cell_type": "code",
   "execution_count": 31,
   "id": "227ea501",
   "metadata": {},
   "outputs": [
    {
     "data": {
      "text/plain": [
       "62"
      ]
     },
     "execution_count": 31,
     "metadata": {},
     "output_type": "execute_result"
    }
   ],
   "source": [
    "len(training_sequences[1])"
   ]
  },
  {
   "cell_type": "code",
   "execution_count": 32,
   "id": "a97bbf90",
   "metadata": {},
   "outputs": [],
   "source": [
    "vocab_size = 60000\n",
    "embedding_vectors = 40\n",
    "import tensorflow as tf"
   ]
  },
  {
   "cell_type": "code",
   "execution_count": 33,
   "id": "89c34bd7",
   "metadata": {},
   "outputs": [],
   "source": [
    "# model = tf.keras.models.Sequential([\n",
    "#     tf.keras.layers.Embedding(vocab_size,40,input_length=62),\n",
    "#     tf.keras.layers.LSTM(100),\n",
    "#     tf.keras.layers.Dense(5,activation='softmax')\n",
    "# ])\n",
    "from tensorflow.keras.models import load_model\n",
    "model = load_model('sentiment_model.h5')"
   ]
  },
  {
   "cell_type": "code",
   "execution_count": 34,
   "id": "defb1d48",
   "metadata": {},
   "outputs": [],
   "source": [
    "# model.compile(optimizer='adam',loss= tf.keras.losses.sparse_categorical_crossentropy,metrics=['accuracy'])"
   ]
  },
  {
   "cell_type": "code",
   "execution_count": 35,
   "id": "64be6ada",
   "metadata": {},
   "outputs": [],
   "source": [
    "import numpy as  np\n",
    "training_sequences = np.asarray(training_sequences)\n",
    "training_labels = np.asarray(training_labels)\n",
    "testing_sequences = np.asarray(testing_sequences)\n",
    "testing_labels = np.asarray(testing_labels)"
   ]
  },
  {
   "cell_type": "code",
   "execution_count": 36,
   "id": "acc28d92",
   "metadata": {},
   "outputs": [
    {
     "data": {
      "text/plain": [
       "array([[   0,    0,    0, ...,    2,  161,  117],\n",
       "       [   0,    0,    0, ...,    3, 1568,  294],\n",
       "       [   0,    0,    0, ...,    3, 1368,    5],\n",
       "       ...,\n",
       "       [   0,    0,    0, ...,   10,  428,    5],\n",
       "       [   0,    0,    0, ...,    5,    9,  335],\n",
       "       [   0,    0,    0, ...,   22,    5,  132]])"
      ]
     },
     "execution_count": 36,
     "metadata": {},
     "output_type": "execute_result"
    }
   ],
   "source": [
    "testing_sequences"
   ]
  },
  {
   "cell_type": "code",
   "execution_count": 37,
   "id": "5b8d31af",
   "metadata": {},
   "outputs": [],
   "source": [
    "# model.fit(training_sequences,training_labels,epochs=5)"
   ]
  },
  {
   "cell_type": "code",
   "execution_count": 38,
   "id": "dd8a5889",
   "metadata": {},
   "outputs": [
    {
     "name": "stdout",
     "output_type": "stream",
     "text": [
      "258/258 [==============================] - 11s 38ms/step - loss: 0.3036 - accuracy: 0.9141\n"
     ]
    },
    {
     "data": {
      "text/plain": [
       "[0.3036256432533264, 0.9141156673431396]"
      ]
     },
     "execution_count": 38,
     "metadata": {},
     "output_type": "execute_result"
    }
   ],
   "source": [
    "model.evaluate(testing_sequences,testing_labels)"
   ]
  },
  {
   "cell_type": "code",
   "execution_count": 39,
   "id": "c2119f96",
   "metadata": {},
   "outputs": [],
   "source": [
    "pred = model.predict(testing_sequences)"
   ]
  },
  {
   "cell_type": "code",
   "execution_count": 40,
   "id": "c4f21c2b",
   "metadata": {},
   "outputs": [
    {
     "name": "stdout",
     "output_type": "stream",
     "text": [
      "1\n",
      "0\n",
      "3\n",
      "3\n",
      "1\n",
      "3\n",
      "3\n",
      "1\n",
      "2\n",
      "4\n"
     ]
    }
   ],
   "source": [
    "for i in range(10):\n",
    "    print(np.argmax(pred[i]))"
   ]
  },
  {
   "cell_type": "code",
   "execution_count": 41,
   "id": "e829457c",
   "metadata": {},
   "outputs": [
    {
     "data": {
      "text/plain": [
       "array([2, 0, 3, 3, 1, 3, 3, 1, 2, 4])"
      ]
     },
     "execution_count": 41,
     "metadata": {},
     "output_type": "execute_result"
    }
   ],
   "source": [
    "testing_labels[:10]"
   ]
  },
  {
   "cell_type": "code",
   "execution_count": 42,
   "id": "67b6cf84",
   "metadata": {},
   "outputs": [],
   "source": [
    "# import pickle\n",
    "# with open('corpus.pkl','wb') as f:\n",
    "#     pickle.dump(corpus,f)"
   ]
  },
  {
   "cell_type": "code",
   "execution_count": 43,
   "id": "6596d94a",
   "metadata": {},
   "outputs": [],
   "source": [
    "p = model.predict( testing_sequences[1].reshape(1,62,1) )"
   ]
  },
  {
   "cell_type": "code",
   "execution_count": 44,
   "id": "cb49ddfe",
   "metadata": {},
   "outputs": [
    {
     "data": {
      "text/plain": [
       "0"
      ]
     },
     "execution_count": 44,
     "metadata": {},
     "output_type": "execute_result"
    }
   ],
   "source": [
    "np.argmax(p)"
   ]
  },
  {
   "cell_type": "code",
   "execution_count": 45,
   "id": "e5f83881",
   "metadata": {},
   "outputs": [
    {
     "data": {
      "text/plain": [
       "0"
      ]
     },
     "execution_count": 45,
     "metadata": {},
     "output_type": "execute_result"
    }
   ],
   "source": [
    "testing_labels[1]"
   ]
  },
  {
   "cell_type": "code",
   "execution_count": 46,
   "id": "551d5316",
   "metadata": {},
   "outputs": [],
   "source": [
    "tf.keras.models.save_model(model,'sentiment_model.h5')"
   ]
  },
  {
   "cell_type": "code",
   "execution_count": 47,
   "id": "d4b883e6",
   "metadata": {},
   "outputs": [],
   "source": [
    "with open('tokenizer.pkl','rb') as f:\n",
    "    tk = pickle.load(f)"
   ]
  },
  {
   "cell_type": "code",
   "execution_count": 48,
   "id": "ba25cf7c",
   "metadata": {},
   "outputs": [
    {
     "data": {
      "text/plain": [
       "{'<OOV>': 1,\n",
       " 'the': 2,\n",
       " 'to': 3,\n",
       " 'and': 4,\n",
       " 'covid': 5,\n",
       " 'of': 6,\n",
       " 'a': 7,\n",
       " 'in': 8,\n",
       " 'coronavirus': 9,\n",
       " 'for': 10,\n",
       " 'is': 11,\n",
       " 'are': 12,\n",
       " 'i': 13,\n",
       " 'you': 14,\n",
       " 'on': 15,\n",
       " 'this': 16,\n",
       " 'prices': 17,\n",
       " 'at': 18,\n",
       " 'food': 19,\n",
       " 'supermarket': 20,\n",
       " 'store': 21,\n",
       " 'with': 22,\n",
       " 'we': 23,\n",
       " 'it': 24,\n",
       " 'that': 25,\n",
       " 'grocery': 26,\n",
       " 'have': 27,\n",
       " 'as': 28,\n",
       " 'be': 29,\n",
       " 'people': 30,\n",
       " 'from': 31,\n",
       " 'amp': 32,\n",
       " 'all': 33,\n",
       " 's': 34,\n",
       " 'your': 35,\n",
       " 'not': 36,\n",
       " 'will': 37,\n",
       " 'consumer': 38,\n",
       " 'my': 39,\n",
       " 'can': 40,\n",
       " 'our': 41,\n",
       " 'they': 42,\n",
       " 'out': 43,\n",
       " 'has': 44,\n",
       " 'up': 45,\n",
       " 'by': 46,\n",
       " 'more': 47,\n",
       " 'or': 48,\n",
       " 'shopping': 49,\n",
       " 'if': 50,\n",
       " 'but': 51,\n",
       " 'online': 52,\n",
       " 'how': 53,\n",
       " 'pandemic': 54,\n",
       " 'their': 55,\n",
       " 'during': 56,\n",
       " 'so': 57,\n",
       " 'now': 58,\n",
       " 't': 59,\n",
       " 'no': 60,\n",
       " 'get': 61,\n",
       " 'about': 62,\n",
       " 'what': 63,\n",
       " 'who': 64,\n",
       " 'need': 65,\n",
       " 'us': 66,\n",
       " 'workers': 67,\n",
       " 'just': 68,\n",
       " 'panic': 69,\n",
       " 'do': 70,\n",
       " 'sanitizer': 71,\n",
       " 'like': 72,\n",
       " 'was': 73,\n",
       " 'an': 74,\n",
       " 'time': 75,\n",
       " 'when': 76,\n",
       " 'demand': 77,\n",
       " 'there': 78,\n",
       " 'go': 79,\n",
       " 'home': 80,\n",
       " 'some': 81,\n",
       " 'help': 82,\n",
       " 'hand': 83,\n",
       " 'its': 84,\n",
       " 'stock': 85,\n",
       " 'going': 86,\n",
       " 'me': 87,\n",
       " 'one': 88,\n",
       " 'due': 89,\n",
       " 'been': 90,\n",
       " 'new': 91,\n",
       " 'here': 92,\n",
       " 'oil': 93,\n",
       " 'buying': 94,\n",
       " 'please': 95,\n",
       " 'crisis': 96,\n",
       " 'toiletpaper': 97,\n",
       " 'work': 98,\n",
       " 'them': 99,\n",
       " 'after': 100,\n",
       " 'other': 101,\n",
       " 'because': 102,\n",
       " 'toilet': 103,\n",
       " 'retail': 104,\n",
       " 'only': 105,\n",
       " 'these': 106,\n",
       " 'should': 107,\n",
       " 'than': 108,\n",
       " 'paper': 109,\n",
       " 'over': 110,\n",
       " 'local': 111,\n",
       " 'stay': 112,\n",
       " 'today': 113,\n",
       " 'stores': 114,\n",
       " 'keep': 115,\n",
       " 'buy': 116,\n",
       " 'via': 117,\n",
       " 'many': 118,\n",
       " 'shelves': 119,\n",
       " 'still': 120,\n",
       " 'being': 121,\n",
       " 'make': 122,\n",
       " 'delivery': 123,\n",
       " 'see': 124,\n",
       " 'those': 125,\n",
       " 'down': 126,\n",
       " 'were': 127,\n",
       " 'know': 128,\n",
       " 'day': 129,\n",
       " 'lockdown': 130,\n",
       " 'why': 131,\n",
       " 'outbreak': 132,\n",
       " 'm': 133,\n",
       " 'take': 134,\n",
       " 'supply': 135,\n",
       " 're': 136,\n",
       " 'would': 137,\n",
       " 'virus': 138,\n",
       " 'into': 139,\n",
       " 'stop': 140,\n",
       " 'staff': 141,\n",
       " 'uk': 142,\n",
       " 'any': 143,\n",
       " 'don': 144,\n",
       " 'health': 145,\n",
       " 'could': 146,\n",
       " 'social': 147,\n",
       " 'had': 148,\n",
       " 'even': 149,\n",
       " 'masks': 150,\n",
       " 'everyone': 151,\n",
       " 'dont': 152,\n",
       " 'while': 153,\n",
       " 'also': 154,\n",
       " 'price': 155,\n",
       " 'working': 156,\n",
       " 'business': 157,\n",
       " 'essential': 158,\n",
       " 'week': 159,\n",
       " 'market': 160,\n",
       " 'world': 161,\n",
       " 'think': 162,\n",
       " 'good': 163,\n",
       " 'amid': 164,\n",
       " 'socialdistancing': 165,\n",
       " 'spread': 166,\n",
       " 'use': 167,\n",
       " 'safe': 168,\n",
       " 'customers': 169,\n",
       " 'shop': 170,\n",
       " 'am': 171,\n",
       " 'most': 172,\n",
       " 'thank': 173,\n",
       " 'way': 174,\n",
       " 'news': 175,\n",
       " 'he': 176,\n",
       " 'employees': 177,\n",
       " 'impact': 178,\n",
       " 'which': 179,\n",
       " 'products': 180,\n",
       " 'back': 181,\n",
       " 'every': 182,\n",
       " 'right': 183,\n",
       " 'government': 184,\n",
       " 'may': 185,\n",
       " 'much': 186,\n",
       " 'before': 187,\n",
       " 'doing': 188,\n",
       " 'first': 189,\n",
       " 'off': 190,\n",
       " 'items': 191,\n",
       " 'supplies': 192,\n",
       " 'times': 193,\n",
       " 'last': 194,\n",
       " 'mask': 195,\n",
       " 'well': 196,\n",
       " 'read': 197,\n",
       " 'support': 198,\n",
       " 'where': 199,\n",
       " 'coronacrisis': 200,\n",
       " 'corona': 201,\n",
       " 'free': 202,\n",
       " 'quarantine': 203,\n",
       " 'im': 204,\n",
       " 'days': 205,\n",
       " 'find': 206,\n",
       " 'want': 207,\n",
       " 'face': 208,\n",
       " 'around': 209,\n",
       " 'global': 210,\n",
       " 'got': 211,\n",
       " 'supermarkets': 212,\n",
       " 'weeks': 213,\n",
       " 'through': 214,\n",
       " 'said': 215,\n",
       " 'then': 216,\n",
       " 'low': 217,\n",
       " 'economy': 218,\n",
       " 'gas': 219,\n",
       " 'high': 220,\n",
       " 'distancing': 221,\n",
       " 'consumers': 222,\n",
       " 'public': 223,\n",
       " 'too': 224,\n",
       " 'says': 225,\n",
       " 'money': 226,\n",
       " 'empty': 227,\n",
       " 'open': 228,\n",
       " 'getting': 229,\n",
       " 'risk': 230,\n",
       " 'companies': 231,\n",
       " 'since': 232,\n",
       " 'really': 233,\n",
       " 'businesses': 234,\n",
       " 'very': 235,\n",
       " 'went': 236,\n",
       " 'country': 237,\n",
       " 'order': 238,\n",
       " 'care': 239,\n",
       " 'say': 240,\n",
       " 'next': 241,\n",
       " 'great': 242,\n",
       " 'things': 243,\n",
       " 'making': 244,\n",
       " 'enough': 245,\n",
       " 'she': 246,\n",
       " 'his': 247,\n",
       " 'her': 248,\n",
       " 'two': 249,\n",
       " 've': 250,\n",
       " 'look': 251,\n",
       " 'others': 252,\n",
       " 'available': 253,\n",
       " 'long': 254,\n",
       " 'march': 255,\n",
       " 'line': 256,\n",
       " 'hands': 257,\n",
       " 'services': 258,\n",
       " 'pay': 259,\n",
       " 'service': 260,\n",
       " 'full': 261,\n",
       " 'check': 262,\n",
       " 'hours': 263,\n",
       " 'shops': 264,\n",
       " 'let': 265,\n",
       " 'family': 266,\n",
       " 'taking': 267,\n",
       " 'gloves': 268,\n",
       " 'against': 269,\n",
       " 'anyone': 270,\n",
       " 'response': 271,\n",
       " 'come': 272,\n",
       " 'across': 273,\n",
       " 'medical': 274,\n",
       " 'put': 275,\n",
       " 'cant': 276,\n",
       " 'chain': 277,\n",
       " 'amazon': 278,\n",
       " 'trump': 279,\n",
       " 'china': 280,\n",
       " 'markets': 281,\n",
       " 'industry': 282,\n",
       " 'must': 283,\n",
       " 'increase': 284,\n",
       " 'few': 285,\n",
       " 'house': 286,\n",
       " 'life': 287,\n",
       " 'needs': 288,\n",
       " 'hoarding': 289,\n",
       " 'everything': 290,\n",
       " 'fight': 291,\n",
       " 'report': 292,\n",
       " 'protect': 293,\n",
       " 'goods': 294,\n",
       " 'groceries': 295,\n",
       " 'trying': 296,\n",
       " 'without': 297,\n",
       " 'closed': 298,\n",
       " 'state': 299,\n",
       " 'emergency': 300,\n",
       " 'best': 301,\n",
       " 'big': 302,\n",
       " 'same': 303,\n",
       " 'economic': 304,\n",
       " 'increased': 305,\n",
       " 'never': 306,\n",
       " 'already': 307,\n",
       " 'community': 308,\n",
       " 'sure': 309,\n",
       " 'stayhome': 310,\n",
       " 'thing': 311,\n",
       " 'close': 312,\n",
       " 'etc': 313,\n",
       " 'vulnerable': 314,\n",
       " 'year': 315,\n",
       " 'give': 316,\n",
       " 'thanks': 317,\n",
       " 'scams': 318,\n",
       " 'live': 319,\n",
       " 'made': 320,\n",
       " 'per': 321,\n",
       " 'drivers': 322,\n",
       " 'elderly': 323,\n",
       " 'small': 324,\n",
       " 'did': 325,\n",
       " 'each': 326,\n",
       " 'sales': 327,\n",
       " 'call': 328,\n",
       " 'someone': 329,\n",
       " 'seen': 330,\n",
       " 'coronavirusoutbreak': 331,\n",
       " 'having': 332,\n",
       " 'place': 333,\n",
       " 'banks': 334,\n",
       " 'coronaviruspandemic': 335,\n",
       " 'such': 336,\n",
       " 'situation': 337,\n",
       " 'better': 338,\n",
       " 'continue': 339,\n",
       " 'healthcare': 340,\n",
       " 'shoppers': 341,\n",
       " 'latest': 342,\n",
       " 'behavior': 343,\n",
       " 'does': 344,\n",
       " 'using': 345,\n",
       " 'lot': 346,\n",
       " 'job': 347,\n",
       " 'another': 348,\n",
       " 'panicbuying': 349,\n",
       " 'real': 350,\n",
       " 'cases': 351,\n",
       " 'looking': 352,\n",
       " 'hope': 353,\n",
       " 'share': 354,\n",
       " 'hard': 355,\n",
       " 'data': 356,\n",
       " 'away': 357,\n",
       " 'stayathome': 358,\n",
       " 'bank': 359,\n",
       " 'important': 360,\n",
       " 'morning': 361,\n",
       " 'coming': 362,\n",
       " 'retailers': 363,\n",
       " 'avoid': 364,\n",
       " 'post': 365,\n",
       " 'able': 366,\n",
       " 'together': 367,\n",
       " 'left': 368,\n",
       " 'selling': 369,\n",
       " 'own': 370,\n",
       " 'hit': 371,\n",
       " 'under': 372,\n",
       " 'production': 373,\n",
       " 'water': 374,\n",
       " 'person': 375,\n",
       " 'learn': 376,\n",
       " 'daily': 377,\n",
       " 'information': 378,\n",
       " 'part': 379,\n",
       " 'protection': 380,\n",
       " 'drop': 381,\n",
       " 'tesco': 382,\n",
       " 'change': 383,\n",
       " 'nhs': 384,\n",
       " 'spending': 385,\n",
       " 'u': 386,\n",
       " 'india': 387,\n",
       " 'list': 388,\n",
       " 'normal': 389,\n",
       " 'current': 390,\n",
       " 'company': 391,\n",
       " 'pm': 392,\n",
       " 'front': 393,\n",
       " 'run': 394,\n",
       " 'might': 395,\n",
       " 'until': 396,\n",
       " 'positive': 397,\n",
       " 'key': 398,\n",
       " 'measures': 399,\n",
       " 'financial': 400,\n",
       " 'less': 401,\n",
       " 'essentials': 402,\n",
       " 'end': 403,\n",
       " 'stayhomesavelives': 404,\n",
       " 'n': 405,\n",
       " 'ever': 406,\n",
       " 'else': 407,\n",
       " 'safety': 408,\n",
       " 'least': 409,\n",
       " 'start': 410,\n",
       " 'outside': 411,\n",
       " 'again': 412,\n",
       " 'feel': 413,\n",
       " 'leave': 414,\n",
       " 'told': 415,\n",
       " 'remember': 416,\n",
       " 'jobs': 417,\n",
       " 'seeing': 418,\n",
       " 'little': 419,\n",
       " 'done': 420,\n",
       " 'months': 421,\n",
       " 'wash': 422,\n",
       " 'milk': 423,\n",
       " 'thought': 424,\n",
       " 'years': 425,\n",
       " 'police': 426,\n",
       " 'tips': 427,\n",
       " 'nothing': 428,\n",
       " 'shortage': 429,\n",
       " 'self': 430,\n",
       " 'man': 431,\n",
       " 'cut': 432,\n",
       " 'something': 433,\n",
       " 'wearing': 434,\n",
       " 'meet': 435,\n",
       " 'restaurants': 436,\n",
       " 'lives': 437,\n",
       " 'video': 438,\n",
       " 'yet': 439,\n",
       " 'fall': 440,\n",
       " 'farmers': 441,\n",
       " 'contact': 442,\n",
       " 'stophoarding': 443,\n",
       " 'sick': 444,\n",
       " 'helping': 445,\n",
       " 'd': 446,\n",
       " 'families': 447,\n",
       " 'travel': 448,\n",
       " 'including': 449,\n",
       " 'april': 450,\n",
       " 'keeping': 451,\n",
       " 'access': 452,\n",
       " 'soap': 453,\n",
       " 'worker': 454,\n",
       " 'update': 455,\n",
       " 'reports': 456,\n",
       " 'ecommerce': 457,\n",
       " 'chains': 458,\n",
       " 'll': 459,\n",
       " 'doctors': 460,\n",
       " 'wear': 461,\n",
       " 'youre': 462,\n",
       " 'running': 463,\n",
       " 'month': 464,\n",
       " 'rise': 465,\n",
       " 'americans': 466,\n",
       " 'possible': 467,\n",
       " 'lower': 468,\n",
       " 'roll': 469,\n",
       " 'media': 470,\n",
       " 'used': 471,\n",
       " 'related': 472,\n",
       " 'higher': 473,\n",
       " 'distance': 474,\n",
       " 'visit': 475,\n",
       " 'coronavirusupdate': 476,\n",
       " 'lines': 477,\n",
       " 'try': 478,\n",
       " 'bad': 479,\n",
       " 'provide': 480,\n",
       " 'always': 481,\n",
       " 'set': 482,\n",
       " 'tp': 483,\n",
       " 'instead': 484,\n",
       " 'likely': 485,\n",
       " 'number': 486,\n",
       " 'found': 487,\n",
       " 'old': 488,\n",
       " 'nurses': 489,\n",
       " 'yourself': 490,\n",
       " 'changes': 491,\n",
       " 'soon': 492,\n",
       " 'needed': 493,\n",
       " 'sanitizers': 494,\n",
       " 'city': 495,\n",
       " 'isolation': 496,\n",
       " 'prevent': 497,\n",
       " 'major': 498,\n",
       " 'alcohol': 499,\n",
       " 'govt': 500,\n",
       " 'offering': 501,\n",
       " 'advice': 502,\n",
       " 'bought': 503,\n",
       " 'relief': 504,\n",
       " 'shortages': 505,\n",
       " 'watch': 506,\n",
       " 'follow': 507,\n",
       " 'anything': 508,\n",
       " 'love': 509,\n",
       " 'testing': 510,\n",
       " 'walmart': 511,\n",
       " 'hospital': 512,\n",
       " 'putting': 513,\n",
       " 'pharmacy': 514,\n",
       " 'produce': 515,\n",
       " 'friends': 516,\n",
       " 'once': 517,\n",
       " 'between': 518,\n",
       " 'orders': 519,\n",
       " 'healthy': 520,\n",
       " 'selfish': 521,\n",
       " 'advantage': 522,\n",
       " 'stocked': 523,\n",
       " 'w': 524,\n",
       " 'brands': 525,\n",
       " 'far': 526,\n",
       " 'states': 527,\n",
       " 'yesterday': 528,\n",
       " 'especially': 529,\n",
       " 'affected': 530,\n",
       " 'hour': 531,\n",
       " 'special': 532,\n",
       " 'almost': 533,\n",
       " 'ensure': 534,\n",
       " 'gone': 535,\n",
       " 'kids': 536,\n",
       " 'ive': 537,\n",
       " 'join': 538,\n",
       " 'staysafe': 539,\n",
       " 'car': 540,\n",
       " 'realdonaldtrump': 541,\n",
       " 'whole': 542,\n",
       " 'deal': 543,\n",
       " 'website': 544,\n",
       " 'million': 545,\n",
       " 'result': 546,\n",
       " 'system': 547,\n",
       " 'drive': 548,\n",
       " 'understand': 549,\n",
       " 'customer': 550,\n",
       " 'following': 551,\n",
       " 'stoppanicbuying': 552,\n",
       " 'saw': 553,\n",
       " 'reduce': 554,\n",
       " 'meat': 555,\n",
       " 'staying': 556,\n",
       " 'gouging': 557,\n",
       " 'top': 558,\n",
       " 'th': 559,\n",
       " 'fear': 560,\n",
       " 'paid': 561,\n",
       " 'means': 562,\n",
       " 'test': 563,\n",
       " 'show': 564,\n",
       " 'sell': 565,\n",
       " 'fresh': 566,\n",
       " 'remain': 567,\n",
       " 'eat': 568,\n",
       " 'actually': 569,\n",
       " 'tested': 570,\n",
       " 'surge': 571,\n",
       " 'story': 572,\n",
       " 'credit': 573,\n",
       " 'control': 574,\n",
       " 'article': 575,\n",
       " 'heroes': 576,\n",
       " 'below': 577,\n",
       " 'save': 578,\n",
       " 'tell': 579,\n",
       " 'despite': 580,\n",
       " 'australia': 581,\n",
       " 'caused': 582,\n",
       " 'war': 583,\n",
       " 'countries': 584,\n",
       " 'wait': 585,\n",
       " 'thats': 586,\n",
       " 'sold': 587,\n",
       " 'works': 588,\n",
       " 'die': 589,\n",
       " 'bread': 590,\n",
       " 'sainsburys': 591,\n",
       " 'case': 592,\n",
       " 'point': 593,\n",
       " 'announced': 594,\n",
       " 'extra': 595,\n",
       " 'canada': 596,\n",
       " 'huge': 597,\n",
       " 'cannot': 598,\n",
       " 'area': 599,\n",
       " 'ask': 600,\n",
       " 'russia': 601,\n",
       " 'kind': 602,\n",
       " 'america': 603,\n",
       " 'italy': 604,\n",
       " 'rolls': 605,\n",
       " 'maybe': 606,\n",
       " 'marketing': 607,\n",
       " 'given': 608,\n",
       " 'period': 609,\n",
       " 'stuff': 610,\n",
       " 'info': 611,\n",
       " 'handsanitizer': 612,\n",
       " 'saying': 613,\n",
       " 'quarantinelife': 614,\n",
       " 'waiting': 615,\n",
       " 'shut': 616,\n",
       " 'limit': 617,\n",
       " 'critical': 618,\n",
       " 'moment': 619,\n",
       " 'themselves': 620,\n",
       " 'trip': 621,\n",
       " 'b': 622,\n",
       " 'cash': 623,\n",
       " 'early': 624,\n",
       " 'product': 625,\n",
       " 'difficult': 626,\n",
       " 'asked': 627,\n",
       " 'struggling': 628,\n",
       " 'idea': 629,\n",
       " 'woman': 630,\n",
       " 'security': 631,\n",
       " 'stocks': 632,\n",
       " 'restaurant': 633,\n",
       " 'theres': 634,\n",
       " 'cost': 635,\n",
       " 'gt': 636,\n",
       " 'changing': 637,\n",
       " 'personal': 638,\n",
       " 'gold': 639,\n",
       " 'clean': 640,\n",
       " 'k': 641,\n",
       " 'based': 642,\n",
       " 'become': 643,\n",
       " 'queue': 644,\n",
       " 'increasing': 645,\n",
       " 'ago': 646,\n",
       " 'national': 647,\n",
       " 'eggs': 648,\n",
       " 'scammers': 649,\n",
       " 'both': 650,\n",
       " 'three': 651,\n",
       " 'employee': 652,\n",
       " 'shit': 653,\n",
       " 'ways': 654,\n",
       " 'drug': 655,\n",
       " 'fuel': 656,\n",
       " 'cleaning': 657,\n",
       " 'yes': 658,\n",
       " 'currently': 659,\n",
       " 'taken': 660,\n",
       " 'bring': 661,\n",
       " 'trends': 662,\n",
       " 'him': 663,\n",
       " 'different': 664,\n",
       " 'basic': 665,\n",
       " 'mean': 666,\n",
       " 'facing': 667,\n",
       " 'lost': 668,\n",
       " 'spreading': 669,\n",
       " 'purchase': 670,\n",
       " 'stockpiling': 671,\n",
       " 'inside': 672,\n",
       " 'survive': 673,\n",
       " 'seriously': 674,\n",
       " 'energy': 675,\n",
       " 'consider': 676,\n",
       " 'cause': 677,\n",
       " 'crazy': 678,\n",
       " 'offer': 679,\n",
       " 'sector': 680,\n",
       " 'heres': 681,\n",
       " 'started': 682,\n",
       " 'shift': 683,\n",
       " 'experts': 684,\n",
       " 'further': 685,\n",
       " 'changed': 686,\n",
       " 'sign': 687,\n",
       " 'behaviour': 688,\n",
       " 'tomorrow': 689,\n",
       " 'closing': 690,\n",
       " 'restrictions': 691,\n",
       " 'president': 692,\n",
       " 'future': 693,\n",
       " 'plan': 694,\n",
       " 'shows': 695,\n",
       " 'won': 696,\n",
       " 'reduced': 697,\n",
       " 'guys': 698,\n",
       " 'giving': 699,\n",
       " 'trade': 700,\n",
       " 'asda': 701,\n",
       " 'research': 702,\n",
       " 'deliveries': 703,\n",
       " 'team': 704,\n",
       " 'fears': 705,\n",
       " 'recession': 706,\n",
       " 'nation': 707,\n",
       " 'ppl': 708,\n",
       " 'usa': 709,\n",
       " 'allowed': 710,\n",
       " 'large': 711,\n",
       " 'issues': 712,\n",
       " 'makes': 713,\n",
       " 'act': 714,\n",
       " 'donate': 715,\n",
       " 'recent': 716,\n",
       " 'closures': 717,\n",
       " 'theyre': 718,\n",
       " 'rs': 719,\n",
       " 'group': 720,\n",
       " 'hey': 721,\n",
       " 'wrong': 722,\n",
       " 'confidence': 723,\n",
       " 'providing': 724,\n",
       " 'asking': 725,\n",
       " 'starting': 726,\n",
       " 'ones': 727,\n",
       " 'school': 728,\n",
       " 'lets': 729,\n",
       " 'ppe': 730,\n",
       " 'goes': 731,\n",
       " 'action': 732,\n",
       " 'american': 733,\n",
       " 'plenty': 734,\n",
       " 'office': 735,\n",
       " 'fucking': 736,\n",
       " 'link': 737,\n",
       " 'folks': 738,\n",
       " 'concerns': 739,\n",
       " 'st': 740,\n",
       " 'crude': 741,\n",
       " 'ready': 742,\n",
       " 'worried': 743,\n",
       " 'strong': 744,\n",
       " 'london': 745,\n",
       " 'fast': 746,\n",
       " 'gonna': 747,\n",
       " 'household': 748,\n",
       " 'falling': 749,\n",
       " 'wipes': 750,\n",
       " 'thinking': 751,\n",
       " 'wont': 752,\n",
       " 'frontline': 753,\n",
       " 'worse': 754,\n",
       " 'continues': 755,\n",
       " 'alert': 756,\n",
       " 'pick': 757,\n",
       " 'problem': 758,\n",
       " 'past': 759,\n",
       " 'bit': 760,\n",
       " 'chinese': 761,\n",
       " 'according': 762,\n",
       " 'borisjohnson': 763,\n",
       " 'pasta': 764,\n",
       " 'insights': 765,\n",
       " 'deliver': 766,\n",
       " 'living': 767,\n",
       " 'email': 768,\n",
       " 'came': 769,\n",
       " 'short': 770,\n",
       " 'resources': 771,\n",
       " 'hear': 772,\n",
       " 'raise': 773,\n",
       " 'afford': 774,\n",
       " 'near': 775,\n",
       " 'limited': 776,\n",
       " 'doesn': 777,\n",
       " 'probably': 778,\n",
       " 'fighting': 779,\n",
       " 'believe': 780,\n",
       " 'walk': 781,\n",
       " 'longer': 782,\n",
       " 'buyers': 783,\n",
       " 'updates': 784,\n",
       " 'questions': 785,\n",
       " 'behind': 786,\n",
       " 'equipment': 787,\n",
       " 'isn': 788,\n",
       " 'expect': 789,\n",
       " 'though': 790,\n",
       " 'digital': 791,\n",
       " 'died': 792,\n",
       " 'general': 793,\n",
       " 'coronavirusuk': 794,\n",
       " 'citizens': 795,\n",
       " 'r': 796,\n",
       " 'allow': 797,\n",
       " 'law': 798,\n",
       " 'send': 799,\n",
       " 'looks': 800,\n",
       " 'fuck': 801,\n",
       " 'delivered': 802,\n",
       " 'expected': 803,\n",
       " 'ceo': 804,\n",
       " 'night': 805,\n",
       " 'lots': 806,\n",
       " 'poor': 807,\n",
       " 'sale': 808,\n",
       " 'necessary': 809,\n",
       " 'bottle': 810,\n",
       " 'federal': 811,\n",
       " 'happy': 812,\n",
       " 'members': 813,\n",
       " 'monday': 814,\n",
       " 'foods': 815,\n",
       " 'hospitals': 816,\n",
       " 'parents': 817,\n",
       " 'rules': 818,\n",
       " 'single': 819,\n",
       " 'experience': 820,\n",
       " 'efforts': 821,\n",
       " 'seems': 822,\n",
       " 'pack': 823,\n",
       " 'message': 824,\n",
       " 'toiletpapercrisis': 825,\n",
       " 'half': 826,\n",
       " 'nice': 827,\n",
       " 'truck': 828,\n",
       " 'seniors': 829,\n",
       " 'rice': 830,\n",
       " 'friend': 831,\n",
       " 'god': 832,\n",
       " 'survey': 833,\n",
       " 'places': 834,\n",
       " 'unprecedented': 835,\n",
       " 'tests': 836,\n",
       " 'forced': 837,\n",
       " 'door': 838,\n",
       " 'rising': 839,\n",
       " 'easter': 840,\n",
       " 'serious': 841,\n",
       " 'potential': 842,\n",
       " 'ok': 843,\n",
       " 'comes': 844,\n",
       " 'y': 845,\n",
       " 'kill': 846,\n",
       " 'society': 847,\n",
       " 'effects': 848,\n",
       " 'symptoms': 849,\n",
       " 'morrisons': 850,\n",
       " 'insurance': 851,\n",
       " 'blog': 852,\n",
       " 'reason': 853,\n",
       " 'county': 854,\n",
       " 'called': 855,\n",
       " 'light': 856,\n",
       " 'plans': 857,\n",
       " 'toiletpaperpanic': 858,\n",
       " 'hoard': 859,\n",
       " 'issue': 860,\n",
       " 'gets': 861,\n",
       " 'collapse': 862,\n",
       " 'took': 863,\n",
       " 'slots': 864,\n",
       " 'question': 865,\n",
       " 'habits': 866,\n",
       " 'human': 867,\n",
       " 'interesting': 868,\n",
       " 'however': 869,\n",
       " 'ill': 870,\n",
       " 'amount': 871,\n",
       " 'anxiety': 872,\n",
       " 'calls': 873,\n",
       " 'california': 874,\n",
       " 'apart': 875,\n",
       " 'massive': 876,\n",
       " 'worth': 877,\n",
       " 'inflated': 878,\n",
       " 'finally': 879,\n",
       " 'move': 880,\n",
       " 'usual': 881,\n",
       " 'listen': 882,\n",
       " 'phone': 883,\n",
       " 'south': 884,\n",
       " 'responders': 885,\n",
       " 'hygiene': 886,\n",
       " 'side': 887,\n",
       " 'income': 888,\n",
       " 'talk': 889,\n",
       " 'beginning': 890,\n",
       " 'click': 891,\n",
       " 'disease': 892,\n",
       " 'saudi': 893,\n",
       " 'opening': 894,\n",
       " 'infected': 895,\n",
       " 'death': 896,\n",
       " 'residents': 897,\n",
       " 'driving': 898,\n",
       " 'coughing': 899,\n",
       " 'temporarily': 900,\n",
       " 'effect': 901,\n",
       " 'hiking': 902,\n",
       " 'ftc': 903,\n",
       " 'distribution': 904,\n",
       " 'street': 905,\n",
       " 'bags': 906,\n",
       " 'several': 907,\n",
       " 'biggest': 908,\n",
       " 'wake': 909,\n",
       " 'isnt': 910,\n",
       " 'rather': 911,\n",
       " 'amazing': 912,\n",
       " 'whats': 913,\n",
       " 'communities': 914,\n",
       " 'didn': 915,\n",
       " 'forget': 916,\n",
       " 'policy': 917,\n",
       " 'hoarders': 918,\n",
       " 'clear': 919,\n",
       " 'true': 920,\n",
       " 'aren': 921,\n",
       " 'sentiment': 922,\n",
       " 'donations': 923,\n",
       " 'gov': 924,\n",
       " 'homes': 925,\n",
       " 'c': 926,\n",
       " 'breaking': 927,\n",
       " 'pretty': 928,\n",
       " 'dear': 929,\n",
       " 'nurse': 930,\n",
       " 'growing': 931,\n",
       " 'didnt': 932,\n",
       " 'details': 933,\n",
       " 'happen': 934,\n",
       " 'debt': 935,\n",
       " 'easy': 936,\n",
       " 'washing': 937,\n",
       " 'rate': 938,\n",
       " 'doesnt': 939,\n",
       " 'cure': 940,\n",
       " 'touch': 941,\n",
       " 'cheap': 942,\n",
       " 'bc': 943,\n",
       " 'calling': 944,\n",
       " 'couple': 945,\n",
       " 'myself': 946,\n",
       " 'growth': 947,\n",
       " 'commodities': 948,\n",
       " 'hold': 949,\n",
       " 'among': 950,\n",
       " 'rt': 951,\n",
       " 'record': 952,\n",
       " 'force': 953,\n",
       " 'step': 954,\n",
       " 'level': 955,\n",
       " 'unemployment': 956,\n",
       " 'spend': 957,\n",
       " 'impacted': 958,\n",
       " 'regarding': 959,\n",
       " 'children': 960,\n",
       " 'opec': 961,\n",
       " 'oh': 962,\n",
       " 'showing': 963,\n",
       " 'costs': 964,\n",
       " 'direct': 965,\n",
       " 'webinar': 966,\n",
       " 'feed': 967,\n",
       " 'guess': 968,\n",
       " 'ebay': 969,\n",
       " 'housing': 970,\n",
       " 'hi': 971,\n",
       " 'bill': 972,\n",
       " 'shelf': 973,\n",
       " 'fake': 974,\n",
       " 'shame': 975,\n",
       " 'rent': 976,\n",
       " 'profiteering': 977,\n",
       " 'x': 978,\n",
       " 'talking': 979,\n",
       " 'department': 980,\n",
       " 'impacts': 981,\n",
       " 'later': 982,\n",
       " 'scam': 983,\n",
       " 'giant': 984,\n",
       " 'protective': 985,\n",
       " 'package': 986,\n",
       " 'donating': 987,\n",
       " 'priority': 988,\n",
       " 'challenges': 989,\n",
       " 'notice': 990,\n",
       " 'quick': 991,\n",
       " 'minister': 992,\n",
       " 'calm': 993,\n",
       " 'meals': 994,\n",
       " 'vegetables': 995,\n",
       " 'areas': 996,\n",
       " 'power': 997,\n",
       " 'note': 998,\n",
       " 'simple': 999,\n",
       " 'deaths': 1000,\n",
       " ...}"
      ]
     },
     "execution_count": 48,
     "metadata": {},
     "output_type": "execute_result"
    }
   ],
   "source": [
    "tk.word_index\n"
   ]
  },
  {
   "cell_type": "code",
   "execution_count": 51,
   "id": "721770f5",
   "metadata": {},
   "outputs": [
    {
     "data": {
      "text/plain": [
       "array([[1.5562946e-03, 9.4710463e-01, 4.2617016e-02, 8.3322711e-03,\n",
       "        3.8972634e-04]], dtype=float32)"
      ]
     },
     "execution_count": 51,
     "metadata": {},
     "output_type": "execute_result"
    }
   ],
   "source": [
    "model.predict(testing_sequences[0].reshape(1,62,1))"
   ]
  },
  {
   "cell_type": "code",
   "execution_count": 67,
   "id": "088e84ad",
   "metadata": {},
   "outputs": [
    {
     "data": {
      "text/plain": [
       "'Lines at the grocery store have been unpredictable, but is eating out a safe alternative? \\r\\r\\n\\r\\r\\nFind out more about whether you should be avoiding restaurants right now:  https://t.co/9idZSis5oQ\\r\\r\\n\\r\\r\\n#coronavirus #covid19 https://t.co/ZHbh898lf6'"
      ]
     },
     "execution_count": 67,
     "metadata": {},
     "output_type": "execute_result"
    }
   ],
   "source": [
    "sentences[15]"
   ]
  },
  {
   "cell_type": "code",
   "execution_count": null,
   "id": "cce7a8d3",
   "metadata": {},
   "outputs": [],
   "source": []
  }
 ],
 "metadata": {
  "kernelspec": {
   "display_name": "Python 3",
   "language": "python",
   "name": "python3"
  },
  "language_info": {
   "codemirror_mode": {
    "name": "ipython",
    "version": 3
   },
   "file_extension": ".py",
   "mimetype": "text/x-python",
   "name": "python",
   "nbconvert_exporter": "python",
   "pygments_lexer": "ipython3",
   "version": "3.8.0"
  }
 },
 "nbformat": 4,
 "nbformat_minor": 5
}
